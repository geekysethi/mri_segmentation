{
 "cells": [
  {
   "cell_type": "code",
   "execution_count": 88,
   "metadata": {},
   "outputs": [],
   "source": [
    "import os\n",
    "from pathlib import Path\n",
    "\n",
    "\n",
    "class configClass():\n",
    "    def __init__(self,resume,best_model):\n",
    "\n",
    "        self.output_dir = Path(\"./outputs\")\n",
    "        self.bestModel = best_model\n",
    "\n",
    "        self.save_model_dir = \"./outputs/saved_models\" \n",
    "        self.tensorboard_path = \"./outputs/runs\" \n",
    "\n",
    "\n",
    "        self.train_images_path = \"../../data/training/train/images\"\n",
    "        self.train_labels_path = \"../../data/training/train/labels\"\n",
    "        self.train_csv_path =  \t\"../../data/training/train/train.csv\"\n",
    "\n",
    "\n",
    "        self.validation_images_path = \"../../data/training/validation/images\"\n",
    "        self.validation_labels_path = \"../../data/training/validation/labels\"\n",
    "        self.validation_csv_path =  \t\"../../data/training/validation/validation.csv\"\n",
    "\n",
    "\n",
    "\n",
    "        self.epochs=200\n",
    "        self.batch_size = 1     # of images in each batch of data\n",
    "        self.num_workers = 2       # of subprocesses to use for data loading\n",
    "        self.lr=0.01\n",
    "        self.momentum=0.9\n",
    "        self.weight_decay=5e-4\n",
    "\n",
    "        self.train_paitence = 20\n",
    "        self.resume=resume\n",
    "        self.use_gpu=True\n"
   ]
  },
  {
   "cell_type": "code",
   "execution_count": 89,
   "metadata": {},
   "outputs": [],
   "source": [
    "import sys\n",
    "sys.path.insert(1, '/home/ashish18024/Deep-Learning-Assignments/Assignment_1/question_2/codes/baseline')\n",
    "from data_loader import trainDataLoaderFn, testDataLoaderFn\n"
   ]
  },
  {
   "cell_type": "code",
   "execution_count": 90,
   "metadata": {},
   "outputs": [],
   "source": [
    "resumeFlag = False\n",
    "best_model = False\n",
    "configObject = configClass(resumeFlag,best_model)"
   ]
  },
  {
   "cell_type": "code",
   "execution_count": 92,
   "metadata": {},
   "outputs": [],
   "source": [
    "trainLoader = trainDataLoaderFn(configObject.train_images_path,configObject.train_labels_path,configObject.train_csv_path,configObject.batch_size)\n",
    "# validLoader = testDataLoaderFn(configObject.validation_images_path,configObject.validation_labels_path,configObject.validation_csv_path,configObject.batch_size)\n",
    "# testLoader  = testDataLoaderFn(config.test_images_path,config.test_labels_path,config.test_csv_path,config.batch_size)"
   ]
  },
  {
   "cell_type": "code",
   "execution_count": 93,
   "metadata": {},
   "outputs": [
    {
     "name": "stdout",
     "output_type": "stream",
     "text": [
      "torch.Size([1, 1, 64, 64]) torch.Size([1, 64, 64])\n"
     ]
    }
   ],
   "source": [
    "temp = iter(trainLoader)\n",
    "temp2 = temp.next()\n",
    "print(temp2[0].size(),temp2[1].size())\n"
   ]
  },
  {
   "cell_type": "code",
   "execution_count": 94,
   "metadata": {},
   "outputs": [],
   "source": [
    "from matplotlib import pyplot as plt\n",
    "%matplotlib inline"
   ]
  },
  {
   "cell_type": "code",
   "execution_count": 95,
   "metadata": {},
   "outputs": [],
   "source": [
    "image = temp2[0].view(64,64).numpy()"
   ]
  },
  {
   "cell_type": "code",
   "execution_count": 96,
   "metadata": {},
   "outputs": [
    {
     "data": {
      "text/plain": [
       "(64, 64)"
      ]
     },
     "execution_count": 96,
     "metadata": {},
     "output_type": "execute_result"
    }
   ],
   "source": [
    "image.shape"
   ]
  },
  {
   "cell_type": "code",
   "execution_count": 97,
   "metadata": {},
   "outputs": [
    {
     "data": {
      "text/plain": [
       "<matplotlib.image.AxesImage at 0x7f86a6ed1f98>"
      ]
     },
     "execution_count": 97,
     "metadata": {},
     "output_type": "execute_result"
    },
    {
     "data": {
      "image/png": "[encoded data removed]",
      "text/plain": [
       "<Figure size 432x288 with 1 Axes>"
      ]
     },
     "metadata": {
      "needs_background": "light"
     },
     "output_type": "display_data"
    }
   ],
   "source": [
    "plt.imshow(image)"
   ]
  },
  {
   "cell_type": "code",
   "execution_count": 99,
   "metadata": {},
   "outputs": [],
   "source": [
    "label = temp2[1].view(64,64).numpy()"
   ]
  },
  {
   "cell_type": "code",
   "execution_count": 100,
   "metadata": {},
   "outputs": [
    {
     "data": {
      "text/plain": [
       "(64, 64)"
      ]
     },
     "execution_count": 100,
     "metadata": {},
     "output_type": "execute_result"
    }
   ],
   "source": [
    "label.shape"
   ]
  },
  {
   "cell_type": "code",
   "execution_count": 102,
   "metadata": {},
   "outputs": [
    {
     "data": {
      "text/plain": [
       "<matplotlib.image.AxesImage at 0x7f86a66f3400>"
      ]
     },
     "execution_count": 102,
     "metadata": {},
     "output_type": "execute_result"
    },
    {
     "data": {
      "image/png": "[encoded data removed]",
      "text/plain": [
       "<Figure size 432x288 with 1 Axes>"
      ]
     },
     "metadata": {
      "needs_background": "light"
     },
     "output_type": "display_data"
    }
   ],
   "source": [
    "plt.figure()\n",
    "plt.imshow(label)\n",
    "\n",
    "# plt.figure()\n",
    "# plt.imshow(label[1])\n",
    "\n",
    "# plt.figure()\n",
    "# plt.imshow(label[2])"
   ]
  },
  {
   "cell_type": "code",
   "execution_count": null,
   "metadata": {},
   "outputs": [],
   "source": []
  },
  {
   "cell_type": "code",
   "execution_count": null,
   "metadata": {},
   "outputs": [],
   "source": []
  },
  {
   "cell_type": "code",
   "execution_count": null,
   "metadata": {},
   "outputs": [],
   "source": []
  }
 ],
 "metadata": {
  "kernelspec": {
   "display_name": "Python 3",
   "language": "python",
   "name": "python3"
  },
  "language_info": {
   "codemirror_mode": {
    "name": "ipython",
    "version": 3
   },
   "file_extension": ".py",
   "mimetype": "text/x-python",
   "name": "python",
   "nbconvert_exporter": "python",
   "pygments_lexer": "ipython3",
   "version": "3.7.3"
  }
 },
 "nbformat": 4,
 "nbformat_minor": 2
}
